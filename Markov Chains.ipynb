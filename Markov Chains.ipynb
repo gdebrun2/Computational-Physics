{
 "cells": [
  {
   "cell_type": "markdown",
   "metadata": {
    "id": "g74VDfctMYox"
   },
   "source": [
    "# Markov Chains\n",
    "**Author:** Gavin DeBrun"
   ]
  },
  {
   "cell_type": "code",
   "execution_count": 1,
   "metadata": {
    "code_folding": [
     3
    ],
    "colab": {
     "base_uri": "https://localhost:8080/"
    },
    "executionInfo": {
     "elapsed": 1075,
     "status": "ok",
     "timestamp": 1604601300421,
     "user": {
      "displayName": "Gavin Debrun",
      "photoUrl": "",
      "userId": "16932255542580517286"
     },
     "user_tz": 360
    },
    "id": "HdFTVg6hMYo0",
    "outputId": "cbb6c69c-071b-403a-a4b6-ae8d6799ce26"
   },
   "outputs": [
    {
     "data": {
      "text/plain": [
       "datetime.datetime(2021, 2, 28, 15, 14, 9, 788109)"
      ]
     },
     "execution_count": 1,
     "metadata": {},
     "output_type": "execute_result"
    }
   ],
   "source": [
    "import numpy as np\n",
    "import matplotlib.pyplot as plt\n",
    "import random\n",
    "def resetMe(keepList=[]):\n",
    "    ll=%who_ls\n",
    "    keepList=keepList+['resetMe','np','plt','random']\n",
    "    for iiii in keepList:\n",
    "        if iiii in ll:\n",
    "            ll.remove(iiii)\n",
    "    for iiii in ll:\n",
    "        jjjj=\"^\"+iiii+\"$\"\n",
    "        %reset_selective -f {jjjj}\n",
    "    ll=%who_ls\n",
    "    return\n",
    "import datetime;datetime.datetime.now()"
   ]
  },
  {
   "cell_type": "markdown",
   "metadata": {
    "id": "JdMN0yLQMYo5"
   },
   "source": [
    "## Weather Markov Chains"
   ]
  },
  {
   "cell_type": "markdown",
   "metadata": {
    "id": "4ok7btSiMYo-"
   },
   "source": [
    "### Weather Probabilities"
   ]
  },
  {
   "cell_type": "markdown",
   "metadata": {
    "id": "2GrzbTxfMYo_"
   },
   "source": [
    "|*state*|sunny|cloudy|rainy|\n",
    "|---------|-------|--------|-------|\n",
    "|*sunny*  |  0.9  |  0.075 | 0.025|\n",
    "|*cloudy* | 0.15  |  0.8   | 0.05 |\n",
    "|*rainy*  | 0.25  | 0.25   | 0.5  |"
   ]
  },
  {
   "cell_type": "code",
   "execution_count": 2,
   "metadata": {
    "colab": {
     "base_uri": "https://localhost:8080/",
     "height": 380
    },
    "executionInfo": {
     "elapsed": 1051,
     "status": "ok",
     "timestamp": 1604601300423,
     "user": {
      "displayName": "Gavin Debrun",
      "photoUrl": "",
      "userId": "16932255542580517286"
     },
     "user_tz": 360
    },
    "id": "Xoe-L9BHMYpC",
    "outputId": "42f7d61e-0065-4d76-ac22-f99d9c0d2234"
   },
   "outputs": [
    {
     "name": "stdout",
     "output_type": "stream",
     "text": [
      "Sunny Probability is: 0.6318\n",
      "Cloudy Probability is: 0.3107\n",
      "Rainy Probability is: 0.0575\n"
     ]
    },
    {
     "data": {
      "image/png": "[encoded data removed]",
      "text/plain": [
       "<Figure size 432x288 with 1 Axes>"
      ]
     },
     "metadata": {
      "needs_background": "light"
     },
     "output_type": "display_data"
    },
    {
     "name": "stdout",
     "output_type": "stream",
     "text": [
      "CPU times: user 206 ms, sys: 13.9 ms, total: 220 ms\n",
      "Wall time: 222 ms\n"
     ]
    }
   ],
   "source": [
    "%%time\n",
    "size = 10000\n",
    "sunnyDays = np.zeros(size)\n",
    "cloudyDays = np.zeros(size)\n",
    "rainyDays = np.zeros(size)\n",
    "\n",
    "sunnyDays[0] = 1\n",
    "for i in range(size - 1):\n",
    "\n",
    "  if (sunnyDays[i] == 1):\n",
    "    random = np.random.uniform(0,1)\n",
    "    if (random <= .9):\n",
    "      sunnyDays[i + 1] = 1\n",
    "    elif (random <= .975):\n",
    "      cloudyDays[i + 1] = 1\n",
    "    elif (random <= 1):\n",
    "      rainyDays[i + 1] = 1\n",
    "    \n",
    "  if (cloudyDays[i] == 1):\n",
    "    random = np.random.uniform(0,1)\n",
    "    if (random <= .8):\n",
    "      cloudyDays[i + 1] = 1\n",
    "    elif (random <= .95):\n",
    "      sunnyDays[i + 1] = 1\n",
    "    elif (random <= 1):\n",
    "      rainyDays[i + 1] =1\n",
    "  \n",
    "  if (rainyDays[i] == 1):\n",
    "    random = np.random.uniform(0,1)\n",
    "    if (random <= .5):\n",
    "      rainyDays[i + 1] = 1\n",
    "    elif (random <= .75):\n",
    "      cloudyDays[i + 1] = 1\n",
    "    elif (random <= 1):\n",
    "      sunnyDays[i + 1] = 1\n",
    "\n",
    "\n",
    "print(\"Sunny Probability is:\", np.sum(sunnyDays)/size)\n",
    "print(\"Cloudy Probability is:\", np.sum(cloudyDays)/size)\n",
    "print(\"Rainy Probability is:\", np.sum(rainyDays)/size)\n",
    "plt.plot(np.linspace(1, size, size), np.cumsum(sunnyDays) / np.linspace(1, size, size), label = \"P(sunny)\")\n",
    "plt.plot(np.linspace(1, size, size), np.cumsum(cloudyDays) / np.linspace(1, size, size), label = \"P(cloudy)\")\n",
    "plt.plot(np.linspace(1, size, size), np.cumsum(rainyDays) / np.linspace(1, size, size), label = \"P(rainy)\")\n",
    "plt.xlabel(\"Number of Steps\")\n",
    "plt.ylabel(\"Probability\")\n",
    "plt.title(\"Probability Estimate Vs Number of Steps\")\n",
    "plt.legend()\n",
    "plt.show()"
   ]
  },
  {
   "cell_type": "markdown",
   "metadata": {
    "id": "iIm91fHWMYpI"
   },
   "source": [
    "## 2. The thermodynamics of a paramagnetic material"
   ]
  },
  {
   "cell_type": "code",
   "execution_count": 3,
   "metadata": {
    "colab": {
     "base_uri": "https://localhost:8080/",
     "height": 295
    },
    "executionInfo": {
     "elapsed": 1441,
     "status": "ok",
     "timestamp": 1604601300837,
     "user": {
      "displayName": "Gavin Debrun",
      "photoUrl": "",
      "userId": "16932255542580517286"
     },
     "user_tz": 360
    },
    "id": "y3aoR98UMYpL",
    "outputId": "93328033-685d-43a3-d66f-f3671aff95cb"
   },
   "outputs": [
    {
     "data": {
      "image/png": "[encoded data removed]",
      "text/plain": [
       "<Figure size 432x288 with 1 Axes>"
      ]
     },
     "metadata": {
      "needs_background": "light"
     },
     "output_type": "display_data"
    }
   ],
   "source": [
    "import scipy.special as sps \n",
    "\n",
    "def ProbabilityRatio(h, new_theta, old_theta):\n",
    "  return np.exp(h * (np.cos(new_theta) - np.cos(old_theta) ) )\n",
    "\n",
    "N = 2000\n",
    "h_values = np.linspace(-5,5,10)\n",
    "magnetizations = []\n",
    "\n",
    "\n",
    "for h in h_values:\n",
    "\n",
    "  thetas = np.empty(N)\n",
    "  theta_initial = np.random.uniform(0, 2*np.pi)\n",
    "  thetas[0] = theta_initial\n",
    "\n",
    "  for t in range(N - 1):\n",
    "\n",
    "    r = np.random.uniform(0,1)\n",
    "    new_theta = thetas[t] + 0.75*np.random.randn()\n",
    "\n",
    "    if (r < ProbabilityRatio(h, new_theta, thetas[t]) ):\n",
    "      thetas[t + 1] = new_theta\n",
    "    else:\n",
    "      thetas[t + 1] = thetas[t]\n",
    "\n",
    "  magnetizations.append( np.sum( np.cos(thetas) ) / N)\n",
    "\n",
    "\n",
    "exact = sps.iv(1, h_values)/sps.iv(0,h_values)\n",
    "plt.plot(h_values, exact, label = \"Exact\")\n",
    "plt.plot(h_values, magnetizations, 'o', label = \"MCMC\")\n",
    "plt.title(\"Effect of h Value on Magnetization\")\n",
    "plt.xlabel(\"h\")\n",
    "plt.ylabel(\"Magnetization\")\n",
    "plt.legend()\n",
    "plt.show()  \n",
    "\n"
   ]
  },
  {
   "cell_type": "markdown",
   "metadata": {
    "id": "65JKv19LMYpN"
   },
   "source": [
    "## 3: Thermodynamics of rubber bands"
   ]
  },
  {
   "cell_type": "markdown",
   "metadata": {
    "id": "72__XSmAMYpP"
   },
   "source": [
    "### Rubber bands at infinite temperature"
   ]
  },
  {
   "cell_type": "code",
   "execution_count": 4,
   "metadata": {
    "colab": {
     "base_uri": "https://localhost:8080/"
    },
    "executionInfo": {
     "elapsed": 1997,
     "status": "ok",
     "timestamp": 1604601301415,
     "user": {
      "displayName": "Gavin Debrun",
      "photoUrl": "",
      "userId": "16932255542580517286"
     },
     "user_tz": 360
    },
    "id": "c9p4xXeDMYpQ",
    "outputId": "23516ad5-8e0a-4077-e4ea-ed7d09d0666a"
   },
   "outputs": [
    {
     "name": "stdout",
     "output_type": "stream",
     "text": [
      "Average length of a polymer configuration is: 49.93230000000056\n"
     ]
    }
   ],
   "source": [
    "average_length = 0\n",
    "sample_size = 10000\n",
    "N = 100\n",
    "\n",
    "for sample in range(sample_size):\n",
    "  configuration = np.random.randint(2, size=N)\n",
    "  average_length += float(np.sum(configuration)) / sample_size\n",
    "\n",
    "print(\"Average length of a polymer configuration is:\", average_length)"
   ]
  },
  {
   "cell_type": "markdown",
   "metadata": {
    "id": "irzNcD8oMYpS"
   },
   "source": [
    "### Rubber bands at finite temperature"
   ]
  },
  {
   "cell_type": "code",
   "execution_count": 5,
   "metadata": {
    "colab": {
     "base_uri": "https://localhost:8080/",
     "height": 295
    },
    "executionInfo": {
     "elapsed": 5929,
     "status": "ok",
     "timestamp": 1604601320065,
     "user": {
      "displayName": "Gavin Debrun",
      "photoUrl": "",
      "userId": "16932255542580517286"
     },
     "user_tz": 360
    },
    "id": "7hcYOaYPMYpT",
    "outputId": "ca6fa26b-6dd1-4b18-87dc-4611f75857c1"
   },
   "outputs": [
    {
     "data": {
      "image/png": "[encoded data removed]",
      "text/plain": [
       "<Figure size 432x288 with 1 Axes>"
      ]
     },
     "metadata": {
      "needs_background": "light"
     },
     "output_type": "display_data"
    }
   ],
   "source": [
    "def computeAvgLength(epsilonRatio): \n",
    "  N = 10000\n",
    "  polymer_length = 100\n",
    "\n",
    "\n",
    "  configuration_length = 0\n",
    "  initial_configuration = np.random.randint(2, size = polymer_length)\n",
    "\n",
    "  for step in range(N):\n",
    "    \n",
    "    M_initial = np.sum(initial_configuration)\n",
    "    configuration_length += M_initial\n",
    "\n",
    "    index_to_change = np.random.randint(0,polymer_length)\n",
    "    proposed_configuration = initial_configuration.copy()\n",
    "    proposed_configuration[index_to_change] = (initial_configuration[index_to_change] + 1) % 2\n",
    "    M_proposed = np.sum(proposed_configuration)\n",
    "    r = np.random.uniform(0,1)\n",
    "\n",
    "    if r < np.exp(-(epsilonRatio * (M_proposed - M_initial) ) ):\n",
    "      initial_configuration = proposed_configuration\n",
    "\n",
    "  return configuration_length/(N*polymer_length)\n",
    "    \n",
    "\n",
    "epsilon_ratios = np.linspace(-5.0, 5.0, 21)\n",
    "average_monomer_lengths = []\n",
    "for epsilonRatio in epsilon_ratios:\n",
    "  average_monomer_lengths.append(computeAvgLength(epsilonRatio))\n",
    "\n",
    "plt.plot(epsilon_ratios, average_monomer_lengths)\n",
    "plt.xlabel(\"Epsilon Ratio\")\n",
    "plt.ylabel(\"Average Monomer Orientation\")\n",
    "plt.title(\"Monomer Orientation For Varying Epsilon Ratios\")\n",
    "plt.show()"
   ]
  }
 ],
 "metadata": {
  "colab": {
   "name": "Markov Chains.ipynb",
   "provenance": []
  },
  "kernelspec": {
   "display_name": "Python 3",
   "language": "python",
   "name": "python3"
  },
  "language_info": {
   "codemirror_mode": {
    "name": "ipython",
    "version": 3
   },
   "file_extension": ".py",
   "mimetype": "text/x-python",
   "name": "python",
   "nbconvert_exporter": "python",
   "pygments_lexer": "ipython3",
   "version": "3.8.3"
  },
  "varInspector": {
   "cols": {
    "lenName": 16,
    "lenType": 16,
    "lenVar": 40
   },
   "kernels_config": {
    "python": {
     "delete_cmd_postfix": "",
     "delete_cmd_prefix": "del ",
     "library": "var_list.py",
     "varRefreshCmd": "print(var_dic_list())"
    },
    "r": {
     "delete_cmd_postfix": ") ",
     "delete_cmd_prefix": "rm(",
     "library": "var_list.r",
     "varRefreshCmd": "cat(var_dic_list()) "
    }
   },
   "types_to_exclude": [
    "module",
    "function",
    "builtin_function_or_method",
    "instance",
    "_Feature"
   ],
   "window_display": false
  }
 },
 "nbformat": 4,
 "nbformat_minor": 4
}
