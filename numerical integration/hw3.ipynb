{
 "cells": [
  {
   "cell_type": "markdown",
   "metadata": {},
   "source": [
    "# HW 3\n",
    "\n",
    "**Author:** Gavin DeBrun"
   ]
  },
  {
   "cell_type": "markdown",
   "metadata": {},
   "source": [
    "### 1a)\n",
    "\n",
    "We compute the value of the function $f(x) = x^{1.5}cos(x^{2})$ at the following points $(x_{j}, x_{j+1})  = \\{(0, \\frac{\\pi}{8}), (\\frac{\\pi}{8}, \\frac{\\pi}{4}), (\\frac{\\pi}{4}, \\frac{3\\pi}{8}), (\\frac{3\\pi}{8}, \\frac{\\pi}{2})\\}$ and use the trapezoid area formula $A_{trap} = \\frac{h}{2}[f_{j} + f_{j+1}]$ to approximate the value of the integral $I_{j}$ over the subinterval. Then, we sum the areas of the trapezoids to approximate the value of the integral $I$ over the entire interval $[0, \\frac{\\pi}{2}]$."
   ]
  },
  {
   "cell_type": "code",
   "execution_count": 27,
   "metadata": {},
   "outputs": [
    {
     "name": "stdout",
     "output_type": "stream",
     "text": [
      "0.1077949713288272\n"
     ]
    }
   ],
   "source": [
    "import numpy as np\n",
    "\n",
    "\n",
    "def f(x):\n",
    "    return x**1.5 * np.cos(x**2)\n",
    "\n",
    "\n",
    "h = np.pi / 8\n",
    "xs = np.arange(0, np.pi / 2 + h, h)\n",
    "fs = f(xs)\n",
    "N = fs.shape[0]\n",
    "\n",
    "I = 0\n",
    "for i in range(1, N - 1):\n",
    "    I += h * fs[i]\n",
    "\n",
    "I += h / 2 * (fs[0] + fs[-1])\n",
    "\n",
    "print(I)"
   ]
  },
  {
   "cell_type": "markdown",
   "metadata": {},
   "source": [
    "Using the trapezoid rule, we get $I \\approx .10779$"
   ]
  },
  {
   "cell_type": "markdown",
   "metadata": {},
   "source": [
    "### 1b)\n",
    "\n",
    "Now instead of using trapezoids, we approximate the integral by calculating the sum of the areas of rectangles with width $h$ whose height is given by the value of the function at the midpoint of the subinterval. \n",
    "\n",
    "Concretely, $x_{i} = \\{ \\frac{\\pi}{16}, \\frac{3\\pi}{16}, \\frac{5\\pi}{16}, \\frac{7\\pi}{16} \\}$"
   ]
  },
  {
   "cell_type": "code",
   "execution_count": 20,
   "metadata": {},
   "outputs": [
    {
     "name": "stdout",
     "output_type": "stream",
     "text": [
      "0.22094613205800323\n"
     ]
    }
   ],
   "source": [
    "xs = np.arange(np.pi / 16, 7 * np.pi / 16 + h, h)\n",
    "fs = f(xs)\n",
    "\n",
    "I = np.sum(fs * h)\n",
    "print(I)\n"
   ]
  },
  {
   "cell_type": "markdown",
   "metadata": {},
   "source": [
    "Using the midpoint rule, we get $I \\approx .22029$"
   ]
  },
  {
   "cell_type": "markdown",
   "metadata": {},
   "source": [
    "### 1c)\n",
    "\n",
    "The end corrected trapezoid rule is given by $I \\approx \\sum_{j = 0}^{N - 1} \\frac{h}{2}[f_{j} + f_{j+1}] - \\frac{h^{2}}{12}[f'(b) - f'(a)]$ where $f'(x) = 1.5x^{.5}cos(x^{2}) - 2x^{2.5}sin(x^{2})$"
   ]
  },
  {
   "cell_type": "code",
   "execution_count": 29,
   "metadata": {},
   "outputs": [
    {
     "name": "stdout",
     "output_type": "stream",
     "text": [
      "0.1762865784049138\n"
     ]
    }
   ],
   "source": [
    "h = np.pi / 8\n",
    "xs = np.arange(0, np.pi / 2 + h, h)\n",
    "fs = f(xs)\n",
    "N = fs.shape[0]\n",
    "\n",
    "I = 0\n",
    "for i in range(1, N - 1):\n",
    "    I += h * fs[i]\n",
    "\n",
    "I += h / 2 * (fs[0] + fs[-1])\n",
    "\n",
    "\n",
    "def fp(x):\n",
    "    return 1.5 * x**0.5 * np.cos(x**2) - 2 * x**2.5 * np.sin(x**2)\n",
    "\n",
    "\n",
    "I -= h**2 / 12 * (fp(np.pi / 2) - fp(0))\n",
    "print(I)"
   ]
  },
  {
   "cell_type": "markdown",
   "metadata": {},
   "source": [
    "Using the end corrected trapezoid rule, we get $I \\approx .1763$"
   ]
  },
  {
   "cell_type": "markdown",
   "metadata": {},
   "source": [
    "### 1d)\n",
    "\n",
    "The Simpson approximation is given by $I \\approx \\sum_{j} I_{j}$ wjere $I_{j} = \\frac{h}{3}[f(x_{j}) + 4f(x_{j+1}) + f(x_{j+2})]$"
   ]
  },
  {
   "cell_type": "code",
   "execution_count": 31,
   "metadata": {},
   "outputs": [
    {
     "name": "stdout",
     "output_type": "stream",
     "text": [
      "0.1964065881916026\n"
     ]
    }
   ],
   "source": [
    "h = np.pi / 8\n",
    "xs = np.arange(0, np.pi / 2 + h, h)\n",
    "fs = f(xs)\n",
    "N = fs.shape[0]\n",
    "\n",
    "I = 0\n",
    "\n",
    "for i in range(0, N - 2, 2):\n",
    "    I += h / 3 * (fs[i] + 4 * fs[i + 1] + fs[i + 2])\n",
    "\n",
    "print(I)"
   ]
  },
  {
   "cell_type": "markdown",
   "metadata": {},
   "source": [
    "Using the Simpson approximation, we get $I \\approx .1964$"
   ]
  },
  {
   "cell_type": "markdown",
   "metadata": {},
   "source": [
    "### 1e)"
   ]
  },
  {
   "cell_type": "code",
   "execution_count": 34,
   "metadata": {},
   "outputs": [
    {
     "name": "stdout",
     "output_type": "stream",
     "text": [
      "0.18213710308632183\n"
     ]
    }
   ],
   "source": [
    "from scipy.integrate import quad\n",
    "\n",
    "I, err = quad(f, 0, np.pi / 2)\n",
    "\n",
    "print(I)"
   ]
  },
  {
   "cell_type": "markdown",
   "metadata": {},
   "source": [
    "The closest approximation to scipy.integrate.quad is the end corrected trapezoid rule."
   ]
  },
  {
   "cell_type": "markdown",
   "metadata": {},
   "source": [
    "### 2)"
   ]
  },
  {
   "cell_type": "markdown",
   "metadata": {},
   "source": [
    "$f'_{i, h} = \\frac{f_{i} - f_{i-1}}{h} - hc_{1} + h^{2}c_{2} + O(h^{3})$\n",
    "\n",
    "$f'_{i, 2h} = \\frac{f_{i} - f_{i-2}}{2h} - 2hc_{1} + 4h^{2}c_{2} + O(h^{3})$\n",
    "\n",
    "$f'_{i, 3h} = \\frac{f_{i} - f_{i-3}}{3h} - 3hc_{1} + 9h^{2}c_{2} + O(h^{3})$\n",
    "\n",
    "$af'_{i, h} + bf'_{i, 2h} + cf'_{i, 3h} = (a+b+c)f'_{i} - hc_{1}(a + 2b + 3c) + h^{2}c_{2}(a + 4b + 9c) + O(h^{3})$\n",
    "\n",
    "We want:\n",
    "\n",
    "$a + b + c = 1$\n",
    "\n",
    "$a + 2b + 3c = 0$\n",
    "\n",
    "$a + 4b + 9c = 0$"
   ]
  },
  {
   "cell_type": "code",
   "execution_count": 37,
   "metadata": {},
   "outputs": [
    {
     "data": {
      "text/plain": [
       "{a: 3, b: -3, c: 1}"
      ]
     },
     "execution_count": 37,
     "metadata": {},
     "output_type": "execute_result"
    }
   ],
   "source": [
    "import sympy as sym\n",
    "\n",
    "a = sym.Symbol(\"a\")\n",
    "b = sym.Symbol(\"b\")\n",
    "c = sym.Symbol(\"c\")\n",
    "\n",
    "sym.solve([a + b + c - 1, a + 2 * b + 3 * c, a + 4 * b + 9 * c], [a, b, c])\n"
   ]
  },
  {
   "cell_type": "markdown",
   "metadata": {},
   "source": [
    "Thus,\n",
    "\n",
    "$f'_{i} \\approx \\frac{3f_{i} - 3f_{i - 1}}{h} - \\frac{3f_{i} - 3f_{i - 2}}{2h} + \\frac{f_{i} - f_{i - 3}}{3h} + O(h^{3})$\n",
    "\n",
    "$f'_{i} \\approx \\frac{18f_{i} - 18f_{i - 1}}{6h} - \\frac{9f_{i} - 9f_{i - 2}}{6h} + \\frac{2f_{i} - 2f_{i -3}}{6h} + O(h^{3})$\n",
    "\n",
    "$\\boxed{f'_{i} \\approx \\frac{11f_{i} - 18f_{i - 1} + 9f_{i - 2} - 2f_{i - 3}}{6h} + O(h^{3})}$"
   ]
  },
  {
   "cell_type": "markdown",
   "metadata": {},
   "source": [
    "### 3)\n",
    "\n",
    "Romberg integration with two stepsizes $h$ and $\\frac{h}{2}$ gives us:\n",
    "\n",
    "$I = \\frac{4I_{2} - I_{1}}{3}$ where $I_{1} = 12.045$ and $I_{2} = 11.801$"
   ]
  },
  {
   "cell_type": "code",
   "execution_count": 38,
   "metadata": {},
   "outputs": [
    {
     "name": "stdout",
     "output_type": "stream",
     "text": [
      "11.719666666666667\n"
     ]
    }
   ],
   "source": [
    "print((4 * 11.801 - 12.045) / 3)"
   ]
  },
  {
   "cell_type": "markdown",
   "metadata": {},
   "source": [
    "Thus, a better approximation is $I \\approx 11.7197$"
   ]
  },
  {
   "cell_type": "markdown",
   "metadata": {},
   "source": [
    "### 4)"
   ]
  },
  {
   "cell_type": "code",
   "execution_count": 3,
   "metadata": {},
   "outputs": [],
   "source": [
    "def simpson_integrate(x, f):\n",
    "    I = 0\n",
    "    dxj = x[2] - x[0]\n",
    "    n = x.shape[0]\n",
    "    if n % 2 == 0:\n",
    "        # do trapezoid at end\n",
    "        for i in range(0, n - 2, 2):\n",
    "            I += dxj / 6 * (f[i] + 4 * f[i + 1] + f[i + 2])\n",
    "\n",
    "        I += (dxj / 2) * (f[n - 2] + f[n - 1])\n",
    "\n",
    "    else:\n",
    "        for i in range(0, n - 2, 2):\n",
    "            I += dxj / 6 * (f[i] + 4 * f[i + 1] + f[i + 2])\n",
    "\n",
    "    return I\n"
   ]
  }
 ],
 "metadata": {
  "kernelspec": {
   "display_name": "base",
   "language": "python",
   "name": "python3"
  },
  "language_info": {
   "codemirror_mode": {
    "name": "ipython",
    "version": 3
   },
   "file_extension": ".py",
   "mimetype": "text/x-python",
   "name": "python",
   "nbconvert_exporter": "python",
   "pygments_lexer": "ipython3",
   "version": "3.11.5"
  },
  "orig_nbformat": 4
 },
 "nbformat": 4,
 "nbformat_minor": 2
}
